{
 "cells": [
  {
   "attachments": {},
   "cell_type": "markdown",
   "id": "99159800",
   "metadata": {},
   "source": [
    "# Soccer Dream Team Selection Problem\n",
    "### Data Pre-Processing and Exploration"
   ]
  },
  {
   "attachments": {},
   "cell_type": "markdown",
   "id": "9dd1c595",
   "metadata": {},
   "source": [
    "What makes a successful soccer dream team?\n",
    "\n",
    "This is not a simple question and the answer probably depends on many factors and variables. Some may be as logical as the individual performance of the players, but this does not ensure the success of the team. \n",
    "A clear example of the above is the Paris Saint German squad, which despite being one of the most expensive teams and with the best players, has not yet achieved a Champions League championship.\n",
    "\n",
    "There can probably be other important factors such as the connection and communication that the players have with each other, the strategies used by the coach and even financial constraints. Despite the above, the proposed optimization model focuses on a quantitative analysis that chooses the players with the best individual performance to maximize the overall performance of the team subject to multiple constraints.\n",
    "\n",
    "In summary, the optimization model is subject to the following constraints:\n",
    "\n",
    "Regulatory and budget Constraints:\n",
    "- Select 23 players (11 initial players and 12 sustitute players)\n",
    "- Number of non european union players <= 5, based on the LaLiga requirements\n",
    "- Option to choose a limit budget from three available options:\n",
    "1. Low_budget = EUR 50,887,000 - squad value of Real Zaragoza (lowest squad value in LaLiga)\n",
    "2. Medium_budget = EUR 581,728,000 - squad value of Sevilla (mid squad value in LaLiga)\n",
    "3. High_budget = EUR 1,171,276,000 - squad value of Real Madrid (highest squad value in LaLiga)\n",
    "\n",
    "Strategic Constraints:\n",
    "- At least one tall defense with a height of at least 186 cm (75 percentile) to defend the aerial plays or corner kicks of the rival team\n",
    "- Option to choose a formation from three available options (4-4-2, 4-3-3, 3-5-2)\n",
    "- To have at least 2 but not more that 4 experienced players (29 years old that represents 75% percentile) so they can lead the most unexperienced ones in important matches\n",
    "- Have at least 4 players that meet the criteria of potential growth (see more detail through the code), to have players that don't have the best score currently but they have a bright future in the next years and a great value to bring to the team at a relatively low price\n",
    "- From the 2 Goal Keepers, have at least 1 that meets the criteria of potential growth"
   ]
  },
  {
   "cell_type": "code",
   "execution_count": 1,
   "id": "9a8165e5",
   "metadata": {},
   "outputs": [],
   "source": [
    "import gurobipy as gb # for optimization\n",
    "from gurobipy import * # for optimization\n",
    "import numpy as np #for arrays and statistics\n",
    "import pandas as pd #for data pre-processing"
   ]
  },
  {
   "attachments": {},
   "cell_type": "markdown",
   "id": "d248c1e5",
   "metadata": {},
   "source": [
    "The dataset used was retrieved from Kaggle. It is made up of one excel file that contains the main attributes of all players in the FIFA 2022 game developed by Electronic Arts."
   ]
  },
  {
   "cell_type": "code",
   "execution_count": 2,
   "id": "6a44907e",
   "metadata": {
    "scrolled": true
   },
   "outputs": [
    {
     "data": {
      "text/html": [
       "<div>\n",
       "<style scoped>\n",
       "    .dataframe tbody tr th:only-of-type {\n",
       "        vertical-align: middle;\n",
       "    }\n",
       "\n",
       "    .dataframe tbody tr th {\n",
       "        vertical-align: top;\n",
       "    }\n",
       "\n",
       "    .dataframe thead th {\n",
       "        text-align: right;\n",
       "    }\n",
       "</style>\n",
       "<table border=\"1\" class=\"dataframe\">\n",
       "  <thead>\n",
       "    <tr style=\"text-align: right;\">\n",
       "      <th></th>\n",
       "      <th>sofifa_id</th>\n",
       "      <th>short_name</th>\n",
       "      <th>standard_position</th>\n",
       "      <th>score</th>\n",
       "      <th>value_eur</th>\n",
       "      <th>annual_wage_eur</th>\n",
       "      <th>potential</th>\n",
       "      <th>age</th>\n",
       "      <th>club_contract_valid_until</th>\n",
       "      <th>release_clause_eur</th>\n",
       "      <th>nationality_name</th>\n",
       "      <th>European_Union</th>\n",
       "      <th>height_cm</th>\n",
       "    </tr>\n",
       "  </thead>\n",
       "  <tbody>\n",
       "    <tr>\n",
       "      <th>0</th>\n",
       "      <td>158023</td>\n",
       "      <td>L. Messi</td>\n",
       "      <td>RW (Right Wing)</td>\n",
       "      <td>93</td>\n",
       "      <td>78000000.0</td>\n",
       "      <td>16640000.0</td>\n",
       "      <td>93</td>\n",
       "      <td>34</td>\n",
       "      <td>2023.0</td>\n",
       "      <td>144300000.0</td>\n",
       "      <td>Argentina</td>\n",
       "      <td>0</td>\n",
       "      <td>170</td>\n",
       "    </tr>\n",
       "    <tr>\n",
       "      <th>1</th>\n",
       "      <td>188545</td>\n",
       "      <td>R. Lewandowski</td>\n",
       "      <td>CF (Center Forward)</td>\n",
       "      <td>92</td>\n",
       "      <td>119500000.0</td>\n",
       "      <td>14040000.0</td>\n",
       "      <td>92</td>\n",
       "      <td>32</td>\n",
       "      <td>2023.0</td>\n",
       "      <td>197200000.0</td>\n",
       "      <td>Poland</td>\n",
       "      <td>1</td>\n",
       "      <td>185</td>\n",
       "    </tr>\n",
       "    <tr>\n",
       "      <th>2</th>\n",
       "      <td>20801</td>\n",
       "      <td>Cristiano Ronaldo</td>\n",
       "      <td>CF (Center Forward)</td>\n",
       "      <td>91</td>\n",
       "      <td>45000000.0</td>\n",
       "      <td>14040000.0</td>\n",
       "      <td>91</td>\n",
       "      <td>36</td>\n",
       "      <td>2023.0</td>\n",
       "      <td>83300000.0</td>\n",
       "      <td>Portugal</td>\n",
       "      <td>1</td>\n",
       "      <td>187</td>\n",
       "    </tr>\n",
       "    <tr>\n",
       "      <th>3</th>\n",
       "      <td>190871</td>\n",
       "      <td>Neymar Jr</td>\n",
       "      <td>LW (Left Wing)</td>\n",
       "      <td>91</td>\n",
       "      <td>129000000.0</td>\n",
       "      <td>14040000.0</td>\n",
       "      <td>91</td>\n",
       "      <td>29</td>\n",
       "      <td>2025.0</td>\n",
       "      <td>238700000.0</td>\n",
       "      <td>Brazil</td>\n",
       "      <td>0</td>\n",
       "      <td>175</td>\n",
       "    </tr>\n",
       "    <tr>\n",
       "      <th>4</th>\n",
       "      <td>192985</td>\n",
       "      <td>K. De Bruyne</td>\n",
       "      <td>CM (Center Midfielder)</td>\n",
       "      <td>91</td>\n",
       "      <td>125500000.0</td>\n",
       "      <td>18200000.0</td>\n",
       "      <td>91</td>\n",
       "      <td>30</td>\n",
       "      <td>2025.0</td>\n",
       "      <td>232200000.0</td>\n",
       "      <td>Belgium</td>\n",
       "      <td>1</td>\n",
       "      <td>181</td>\n",
       "    </tr>\n",
       "  </tbody>\n",
       "</table>\n",
       "</div>"
      ],
      "text/plain": [
       "   sofifa_id         short_name       standard_position  score    value_eur  \\\n",
       "0     158023           L. Messi         RW (Right Wing)     93   78000000.0   \n",
       "1     188545     R. Lewandowski     CF (Center Forward)     92  119500000.0   \n",
       "2      20801  Cristiano Ronaldo     CF (Center Forward)     91   45000000.0   \n",
       "3     190871          Neymar Jr          LW (Left Wing)     91  129000000.0   \n",
       "4     192985       K. De Bruyne  CM (Center Midfielder)     91  125500000.0   \n",
       "\n",
       "   annual_wage_eur  potential  age  club_contract_valid_until  \\\n",
       "0       16640000.0         93   34                     2023.0   \n",
       "1       14040000.0         92   32                     2023.0   \n",
       "2       14040000.0         91   36                     2023.0   \n",
       "3       14040000.0         91   29                     2025.0   \n",
       "4       18200000.0         91   30                     2025.0   \n",
       "\n",
       "   release_clause_eur nationality_name  European_Union  height_cm  \n",
       "0         144300000.0        Argentina               0        170  \n",
       "1         197200000.0           Poland               1        185  \n",
       "2          83300000.0         Portugal               1        187  \n",
       "3         238700000.0           Brazil               0        175  \n",
       "4         232200000.0          Belgium               1        181  "
      ]
     },
     "metadata": {},
     "output_type": "display_data"
    }
   ],
   "source": [
    "db = pd.read_excel('players_22_final.xlsx', sheet_name='players_22_final')\n",
    "db.dropna(inplace=True)\n",
    "display(db.head())\n",
    "positions = db[\"standard_position\"]"
   ]
  },
  {
   "attachments": {},
   "cell_type": "markdown",
   "id": "fe9284ad",
   "metadata": {},
   "source": [
    "For the data pre-processing, the dummies for the standard position were created to have auxiliary binaries for the formation and position that is to be optimized."
   ]
  },
  {
   "cell_type": "code",
   "execution_count": 3,
   "id": "c0fa616f",
   "metadata": {},
   "outputs": [],
   "source": [
    "#Dummyfying the positions\n",
    "positions = db[\"standard_position\"]\n",
    "db = pd.get_dummies(data=db, columns=[\"standard_position\"], prefix=\"\")"
   ]
  },
  {
   "attachments": {},
   "cell_type": "markdown",
   "id": "e81e2442",
   "metadata": {},
   "source": [
    "To have a succesful team now and in the future, players with potential to grow should also be considered as part of the dream team. Therefore through data analysis and statistics the goal is to identify players that comply with this.\n",
    "\n",
    "For players that have a current score equal or less than 70, the potential to grow should be 10 points that represents the percentile 75 in players below 70 score. Ex. a player that currently has 70 should have at least a potential of 80 to meet this constraint. \n",
    "\n",
    "For players that have a current score from 71 to 80, the potential to grow should be 4 points that represents the percentile 75 in players between 71-80. Ex. a player that currently has 75 should have at least a potential of 79 to meet this constraint. \n",
    "\n",
    "For players that have a current score from 81 to 90, the potential to grow should be 3 points that represents the percentile 75 in players between 81-90. Ex. a player that currently has 85 should have at least a potential of 88 to meet this constraint. \n",
    "\n",
    "Players above 90, don't need to meet a grow potential since they no longer have much room to continue growing."
   ]
  },
  {
   "cell_type": "code",
   "execution_count": 4,
   "id": "6d84e437",
   "metadata": {},
   "outputs": [],
   "source": [
    "#Creating auxiliary binary to see potential of growth\n",
    "db[\"Potential_Growth\"] = db[\"potential\"]-db[\"score\"]"
   ]
  },
  {
   "cell_type": "code",
   "execution_count": 5,
   "id": "d578a41e",
   "metadata": {},
   "outputs": [],
   "source": [
    "#Creating auxiliary binary to see potential of growth\n",
    "# Put as 1, players between 0-70 of score with a potential to grow up at least 10 points. Otherwise, put zero.\n",
    "# Put as 1, players between 70-80 of score with a potential to grow up at least 4 points. Otherwise, put zero.\n",
    "# Put as 1, players between 80-90 of score with a potential to grow up at least 3 points. Otherwise, put zero.\n",
    "\n",
    "binary_potential = []\n",
    "\n",
    "for i in range(len(db)):\n",
    "    if db.iloc[i,2] <= 70 and db.iloc[i,22] >= 10: # The 10 points are the 75 percentile of players <70 score \n",
    "        binary_potential.append(1)\n",
    "    elif db.iloc[i,2] <= 80 and db.iloc[i,22] >= 4:# The 4 points are the 75 percentile of players 71-80 score\n",
    "        binary_potential.append(1)\n",
    "    elif db.iloc[i,2] <= 90 and db.iloc[i,22] >= 3:# The 3 points are the 75 percentile of players 81-90 score \n",
    "        binary_potential.append(1)\n",
    "    else:\n",
    "        binary_potential.append(0)\n",
    "    \n",
    "db[\"Binary_Potential\"] = binary_potential"
   ]
  },
  {
   "cell_type": "code",
   "execution_count": 6,
   "id": "ea1bc222",
   "metadata": {},
   "outputs": [
    {
     "name": "stdout",
     "output_type": "stream",
     "text": [
      "The 75 percentile in the attribute age is: 29.0\n"
     ]
    },
    {
     "data": {
      "text/html": [
       "<div>\n",
       "<style scoped>\n",
       "    .dataframe tbody tr th:only-of-type {\n",
       "        vertical-align: middle;\n",
       "    }\n",
       "\n",
       "    .dataframe tbody tr th {\n",
       "        vertical-align: top;\n",
       "    }\n",
       "\n",
       "    .dataframe thead th {\n",
       "        text-align: right;\n",
       "    }\n",
       "</style>\n",
       "<table border=\"1\" class=\"dataframe\">\n",
       "  <thead>\n",
       "    <tr style=\"text-align: right;\">\n",
       "      <th></th>\n",
       "      <th>sofifa_id</th>\n",
       "      <th>short_name</th>\n",
       "      <th>score</th>\n",
       "      <th>value_eur</th>\n",
       "      <th>annual_wage_eur</th>\n",
       "      <th>potential</th>\n",
       "      <th>age</th>\n",
       "      <th>club_contract_valid_until</th>\n",
       "      <th>release_clause_eur</th>\n",
       "      <th>nationality_name</th>\n",
       "      <th>...</th>\n",
       "      <th>_GK (Goal Keeper)</th>\n",
       "      <th>_LB (Left Back)</th>\n",
       "      <th>_LM (Left Midfielder)</th>\n",
       "      <th>_LW (Left Wing)</th>\n",
       "      <th>_RB (Right Back)</th>\n",
       "      <th>_RM (Right Midfielder)</th>\n",
       "      <th>_RW (Right Wing)</th>\n",
       "      <th>Potential_Growth</th>\n",
       "      <th>Binary_Potential</th>\n",
       "      <th>Binary_Age</th>\n",
       "    </tr>\n",
       "  </thead>\n",
       "  <tbody>\n",
       "    <tr>\n",
       "      <th>0</th>\n",
       "      <td>158023</td>\n",
       "      <td>L. Messi</td>\n",
       "      <td>93</td>\n",
       "      <td>78000000.0</td>\n",
       "      <td>16640000.0</td>\n",
       "      <td>93</td>\n",
       "      <td>34</td>\n",
       "      <td>2023.0</td>\n",
       "      <td>144300000.0</td>\n",
       "      <td>Argentina</td>\n",
       "      <td>...</td>\n",
       "      <td>0</td>\n",
       "      <td>0</td>\n",
       "      <td>0</td>\n",
       "      <td>0</td>\n",
       "      <td>0</td>\n",
       "      <td>0</td>\n",
       "      <td>1</td>\n",
       "      <td>0</td>\n",
       "      <td>0</td>\n",
       "      <td>1</td>\n",
       "    </tr>\n",
       "    <tr>\n",
       "      <th>1</th>\n",
       "      <td>188545</td>\n",
       "      <td>R. Lewandowski</td>\n",
       "      <td>92</td>\n",
       "      <td>119500000.0</td>\n",
       "      <td>14040000.0</td>\n",
       "      <td>92</td>\n",
       "      <td>32</td>\n",
       "      <td>2023.0</td>\n",
       "      <td>197200000.0</td>\n",
       "      <td>Poland</td>\n",
       "      <td>...</td>\n",
       "      <td>0</td>\n",
       "      <td>0</td>\n",
       "      <td>0</td>\n",
       "      <td>0</td>\n",
       "      <td>0</td>\n",
       "      <td>0</td>\n",
       "      <td>0</td>\n",
       "      <td>0</td>\n",
       "      <td>0</td>\n",
       "      <td>1</td>\n",
       "    </tr>\n",
       "    <tr>\n",
       "      <th>2</th>\n",
       "      <td>20801</td>\n",
       "      <td>Cristiano Ronaldo</td>\n",
       "      <td>91</td>\n",
       "      <td>45000000.0</td>\n",
       "      <td>14040000.0</td>\n",
       "      <td>91</td>\n",
       "      <td>36</td>\n",
       "      <td>2023.0</td>\n",
       "      <td>83300000.0</td>\n",
       "      <td>Portugal</td>\n",
       "      <td>...</td>\n",
       "      <td>0</td>\n",
       "      <td>0</td>\n",
       "      <td>0</td>\n",
       "      <td>0</td>\n",
       "      <td>0</td>\n",
       "      <td>0</td>\n",
       "      <td>0</td>\n",
       "      <td>0</td>\n",
       "      <td>0</td>\n",
       "      <td>1</td>\n",
       "    </tr>\n",
       "    <tr>\n",
       "      <th>3</th>\n",
       "      <td>190871</td>\n",
       "      <td>Neymar Jr</td>\n",
       "      <td>91</td>\n",
       "      <td>129000000.0</td>\n",
       "      <td>14040000.0</td>\n",
       "      <td>91</td>\n",
       "      <td>29</td>\n",
       "      <td>2025.0</td>\n",
       "      <td>238700000.0</td>\n",
       "      <td>Brazil</td>\n",
       "      <td>...</td>\n",
       "      <td>0</td>\n",
       "      <td>0</td>\n",
       "      <td>0</td>\n",
       "      <td>1</td>\n",
       "      <td>0</td>\n",
       "      <td>0</td>\n",
       "      <td>0</td>\n",
       "      <td>0</td>\n",
       "      <td>0</td>\n",
       "      <td>1</td>\n",
       "    </tr>\n",
       "    <tr>\n",
       "      <th>4</th>\n",
       "      <td>192985</td>\n",
       "      <td>K. De Bruyne</td>\n",
       "      <td>91</td>\n",
       "      <td>125500000.0</td>\n",
       "      <td>18200000.0</td>\n",
       "      <td>91</td>\n",
       "      <td>30</td>\n",
       "      <td>2025.0</td>\n",
       "      <td>232200000.0</td>\n",
       "      <td>Belgium</td>\n",
       "      <td>...</td>\n",
       "      <td>0</td>\n",
       "      <td>0</td>\n",
       "      <td>0</td>\n",
       "      <td>0</td>\n",
       "      <td>0</td>\n",
       "      <td>0</td>\n",
       "      <td>0</td>\n",
       "      <td>0</td>\n",
       "      <td>0</td>\n",
       "      <td>1</td>\n",
       "    </tr>\n",
       "  </tbody>\n",
       "</table>\n",
       "<p>5 rows × 25 columns</p>\n",
       "</div>"
      ],
      "text/plain": [
       "   sofifa_id         short_name  score    value_eur  annual_wage_eur  \\\n",
       "0     158023           L. Messi     93   78000000.0       16640000.0   \n",
       "1     188545     R. Lewandowski     92  119500000.0       14040000.0   \n",
       "2      20801  Cristiano Ronaldo     91   45000000.0       14040000.0   \n",
       "3     190871          Neymar Jr     91  129000000.0       14040000.0   \n",
       "4     192985       K. De Bruyne     91  125500000.0       18200000.0   \n",
       "\n",
       "   potential  age  club_contract_valid_until  release_clause_eur  \\\n",
       "0         93   34                     2023.0         144300000.0   \n",
       "1         92   32                     2023.0         197200000.0   \n",
       "2         91   36                     2023.0          83300000.0   \n",
       "3         91   29                     2025.0         238700000.0   \n",
       "4         91   30                     2025.0         232200000.0   \n",
       "\n",
       "  nationality_name  ...  _GK (Goal Keeper)  _LB (Left Back)  \\\n",
       "0        Argentina  ...                  0                0   \n",
       "1           Poland  ...                  0                0   \n",
       "2         Portugal  ...                  0                0   \n",
       "3           Brazil  ...                  0                0   \n",
       "4          Belgium  ...                  0                0   \n",
       "\n",
       "   _LM (Left Midfielder)  _LW (Left Wing)  _RB (Right Back)  \\\n",
       "0                      0                0                 0   \n",
       "1                      0                0                 0   \n",
       "2                      0                0                 0   \n",
       "3                      0                1                 0   \n",
       "4                      0                0                 0   \n",
       "\n",
       "   _RM (Right Midfielder)  _RW (Right Wing)  Potential_Growth  \\\n",
       "0                       0                 1                 0   \n",
       "1                       0                 0                 0   \n",
       "2                       0                 0                 0   \n",
       "3                       0                 0                 0   \n",
       "4                       0                 0                 0   \n",
       "\n",
       "   Binary_Potential  Binary_Age  \n",
       "0                 0           1  \n",
       "1                 0           1  \n",
       "2                 0           1  \n",
       "3                 0           1  \n",
       "4                 0           1  \n",
       "\n",
       "[5 rows x 25 columns]"
      ]
     },
     "execution_count": 6,
     "metadata": {},
     "output_type": "execute_result"
    }
   ],
   "source": [
    "#Creating auxiliary binary to see if player is older than 29 years (75 percentile)\n",
    "print(\"The 75 percentile in the attribute age is:\",np.percentile(np.array(db)[:,6],75))\n",
    "db[\"Binary_Age\"] = (db[\"age\"]>=np.percentile(np.array(db)[:,6],75)).astype(int)\n",
    "db.head()"
   ]
  },
  {
   "cell_type": "code",
   "execution_count": 7,
   "id": "20069356",
   "metadata": {},
   "outputs": [],
   "source": [
    "db[\"Standard_Position\"] = positions\n",
    "db_array = np.array(db)"
   ]
  },
  {
   "cell_type": "code",
   "execution_count": 8,
   "id": "52264e38",
   "metadata": {},
   "outputs": [],
   "source": [
    "sofifa = db_array[:,0]\n",
    "name = db_array[:,1]\n",
    "score = db_array[:,2]\n",
    "value = db_array[:,3]\n",
    "wage = db_array[:,4]\n",
    "potential = db_array[:,5]\n",
    "age = db_array[:,6]\n",
    "contract = db_array[:,7]\n",
    "release_amount = db_array[:,8]\n",
    "nationality = db_array[:,9]\n",
    "europe = db_array[:,10]\n",
    "height = db_array[:,11]\n",
    "cb = db_array[:,12]\n",
    "cf = db_array[:,13]\n",
    "cm = db_array[:,14]\n",
    "gk = db_array[:,15]\n",
    "lb = db_array[:,16]\n",
    "lm = db_array[:,17]\n",
    "lw = db_array[:,18]\n",
    "rb = db_array[:,19]\n",
    "rm = db_array[:,20]\n",
    "rw = db_array[:,21]\n",
    "aux_potential = db_array[:,23]\n",
    "aux_age = db_array[:,24]\n",
    "positions = db_array[:,25]"
   ]
  },
  {
   "attachments": {},
   "cell_type": "markdown",
   "id": "1d5452db",
   "metadata": {},
   "source": [
    "### Optimization"
   ]
  },
  {
   "cell_type": "code",
   "execution_count": 9,
   "id": "7bc6c0ef",
   "metadata": {},
   "outputs": [
    {
     "name": "stdout",
     "output_type": "stream",
     "text": [
      "Set parameter Username\n",
      "Academic license - for non-commercial use only - expires 2023-09-12\n"
     ]
    }
   ],
   "source": [
    "model = gb.Model(\"Dream Team Selection Problem\")"
   ]
  },
  {
   "cell_type": "code",
   "execution_count": 10,
   "id": "7ecc6445",
   "metadata": {},
   "outputs": [
    {
     "name": "stdout",
     "output_type": "stream",
     "text": [
      "The total number of players in the database is 18,063\n"
     ]
    }
   ],
   "source": [
    "n = len(name)\n",
    "print(\"The total number of players in the database is\",\"{:,}\".format(n))"
   ]
  },
  {
   "attachments": {},
   "cell_type": "markdown",
   "id": "f23f0cd0",
   "metadata": {},
   "source": [
    "As the dataset has 18,063 players, the optimization problem has the same number of variables to decide whether the player is chosen.\n",
    "\n",
    "Additionally, it has three decision variables that serve as auxiliary binaries to build the constraint of a tall defense."
   ]
  },
  {
   "cell_type": "code",
   "execution_count": 11,
   "id": "b5f1ec32",
   "metadata": {},
   "outputs": [],
   "source": [
    "# Decision variables\n",
    "X = model.addVars(n,vtype=GRB.BINARY,name=[i for i in name])\n",
    "b_lb = model.addVars(n,vtype=GRB.BINARY,name=[\"b_lf: \"+i for i in name])\n",
    "b_rb = model.addVars(n,vtype=GRB.BINARY,name=[\"b_rb: \"+i for i in name])\n",
    "b_cb = model.addVars(n,vtype=GRB.BINARY,name=[\"b_cb: \"+i for i in name])"
   ]
  },
  {
   "attachments": {},
   "cell_type": "markdown",
   "id": "0ff17c25",
   "metadata": {},
   "source": [
    "The optimization problem is maximizing the sum of the product of the score of chosen players times the binary variable which determines if the player was selected or not."
   ]
  },
  {
   "cell_type": "code",
   "execution_count": 12,
   "id": "a27620f8",
   "metadata": {},
   "outputs": [],
   "source": [
    "# Objective function is to maximize the average squad score\n",
    "model.setObjective(sum(X[i]*score[i]/23 for i in range (n)),GRB.MAXIMIZE)"
   ]
  },
  {
   "attachments": {},
   "cell_type": "markdown",
   "id": "ab294846",
   "metadata": {},
   "source": [
    "### Regulatory and Budget Constraints"
   ]
  },
  {
   "attachments": {},
   "cell_type": "markdown",
   "id": "1e3d0475",
   "metadata": {},
   "source": [
    "According to La Liga (Spain), in each match the team can take 18 players and have 3 changes of players. However, each team usually has around 23 players registered to give opportunities to new ones and give rest to others. Therefore the optimization problem will target 23 players."
   ]
  },
  {
   "cell_type": "code",
   "execution_count": 13,
   "id": "5c31660e",
   "metadata": {},
   "outputs": [
    {
     "data": {
      "text/plain": [
       "<gurobi.Constr *Awaiting Model Update*>"
      ]
     },
     "execution_count": 13,
     "metadata": {},
     "output_type": "execute_result"
    }
   ],
   "source": [
    "# Constraint of twenty-three players\n",
    "model.addConstr(sum(X[i] for i in range (n)) == 23)"
   ]
  },
  {
   "cell_type": "code",
   "execution_count": 14,
   "id": "0378e9fa",
   "metadata": {},
   "outputs": [
    {
     "data": {
      "text/plain": [
       "<gurobi.Constr *Awaiting Model Update*>"
      ]
     },
     "execution_count": 14,
     "metadata": {},
     "output_type": "execute_result"
    }
   ],
   "source": [
    "# Constraint of at least 18 european union players (European Union rule)\n",
    "model.addConstr(sum(X[i]*europe[i] for i in range(n))>=18)"
   ]
  },
  {
   "attachments": {},
   "cell_type": "markdown",
   "id": "3bc4832f",
   "metadata": {},
   "source": [
    "Constraint of budget\n",
    "\n",
    "For this constraint, we will take the idea that a shareholder organization that is dedicated to invest in soccer clubs has the sufficient budget to buy a LaLiga team. The organization wants our advice to know if with that same budget it is better to buy players directly in the market and create a new club from scratch.\n",
    "\n",
    "For this budget, we are only considering the squad market value of the 23 players of three different teams that played more matches and minutes. In addition to the market value, we are adding the annual wage of this 23 players into the budget.\n",
    "\n",
    "It is assumed that we don't have other initial investments at creating a new soccer club."
   ]
  },
  {
   "cell_type": "code",
   "execution_count": 15,
   "id": "2f41ac05",
   "metadata": {},
   "outputs": [],
   "source": [
    "Low_budget = 50887000 #Squad value of Real Zaragoza team (lowest squad value in LaLiga)\n",
    "Medium_budget = 581728000 #Squad value of Sevilla team\n",
    "High_budget = 1171276000 #Squad value of Real Madrid (highest squad value in LaLiga)"
   ]
  },
  {
   "cell_type": "code",
   "execution_count": 16,
   "id": "8c9eebac",
   "metadata": {},
   "outputs": [
    {
     "name": "stdout",
     "output_type": "stream",
     "text": [
      "Select the letter, based on the budget you want: \n",
      "a. Low_budget \n",
      "b. Medium_budget \n",
      "c. High_budget \n",
      "Answer: c\n"
     ]
    }
   ],
   "source": [
    "response_1 = input(\"Select the letter, based on the budget you want: \\na. Low_budget \\nb. Medium_budget \\nc. High_budget \\nAnswer: \")"
   ]
  },
  {
   "cell_type": "code",
   "execution_count": 17,
   "id": "e54f2f20",
   "metadata": {},
   "outputs": [],
   "source": [
    "if response_1 == \"a\":\n",
    "    model.addConstr(sum(X[i]*(wage[i]+value[i]) for i in range(n))<=Low_budget)\n",
    "elif response_1 == \"b\":\n",
    "    model.addConstr(sum(X[i]*(wage[i]+value[i]) for i in range(n))<=Medium_budget)\n",
    "elif response_1 == \"c\":\n",
    "    model.addConstr(sum(X[i]*(wage[i]+value[i]) for i in range(n))<=High_budget)"
   ]
  },
  {
   "attachments": {},
   "cell_type": "markdown",
   "id": "2e3a53de",
   "metadata": {},
   "source": [
    "### Strategic Constraints"
   ]
  },
  {
   "attachments": {},
   "cell_type": "markdown",
   "id": "e1e1125a",
   "metadata": {},
   "source": [
    "To defend the aerial plays or corner kicks of the rival team we want at least one tall defense with a heigh of at least 186 cm (75 percentile)"
   ]
  },
  {
   "cell_type": "code",
   "execution_count": 18,
   "id": "60e50026",
   "metadata": {},
   "outputs": [
    {
     "name": "stdout",
     "output_type": "stream",
     "text": [
      " The 75 percentile in the attribute heigh is: 186.0 cm\n"
     ]
    }
   ],
   "source": [
    "#Constraint of a tall defense (more than 186 cm (75 percentile))\n",
    "height_p = np.percentile(height,75)\n",
    "print(\" The 75 percentile in the attribute heigh is:\",height_p,\"cm\")"
   ]
  },
  {
   "cell_type": "code",
   "execution_count": 19,
   "id": "f3a8d1fc",
   "metadata": {},
   "outputs": [
    {
     "data": {
      "text/plain": [
       "<gurobi.Constr *Awaiting Model Update*>"
      ]
     },
     "execution_count": 19,
     "metadata": {},
     "output_type": "execute_result"
    }
   ],
   "source": [
    "M = 10000\n",
    "for i in range (n):\n",
    "    model.addConstr(X[i]*lb[i]*height[i]-height_p<=M*b_lb[i])\n",
    "    model.addConstr(X[i]*lb[i]*height[i]-height_p>= -M*(1-b_lb[i])) \n",
    "\n",
    "for i in range (n):\n",
    "    model.addConstr(X[i]*rb[i]*height[i]-height_p<=M*b_rb[i])\n",
    "    model.addConstr(X[i]*rb[i]*height[i]-height_p>= -M*(1-b_rb[i])) \n",
    "    \n",
    "for i in range (n):\n",
    "    model.addConstr(X[i]*cb[i]*height[i]-height_p<=M*b_cb[i])\n",
    "    model.addConstr(X[i]*cb[i]*height[i]-height_p>= -M*(1-b_cb[i])) \n",
    "    \n",
    "model.addConstr(sum(b_lb[i]+b_rb[i]+b_cb[i] for i in range (n)) >= 1)\n"
   ]
  },
  {
   "attachments": {},
   "cell_type": "markdown",
   "id": "cfea2389",
   "metadata": {},
   "source": [
    "To have a flexible optimization model that can be adapted to different game strategies, the model allows to choose between 3 different formations: 4-4-2, 4-3-3 and 3-5-2"
   ]
  },
  {
   "cell_type": "code",
   "execution_count": 20,
   "id": "a63c765d",
   "metadata": {},
   "outputs": [
    {
     "name": "stdout",
     "output_type": "stream",
     "text": [
      "Select the letter, based on the formation you want: \n",
      "a. 4-4-2 \n",
      "b. 4-3-3 \n",
      "c. 3-5-2 \n",
      "Answer: a\n"
     ]
    }
   ],
   "source": [
    "response = input(\"Select the letter, based on the formation you want: \\na. 4-4-2 \\nb. 4-3-3 \\nc. 3-5-2 \\nAnswer: \")"
   ]
  },
  {
   "cell_type": "code",
   "execution_count": 21,
   "id": "1d6349bb",
   "metadata": {},
   "outputs": [],
   "source": [
    "if response == \"a\":\n",
    "    #Positions Defense\n",
    "    model.addConstr(sum(X[i]*cb[i] for i in range(n))==4) #The team needs 4 Center Back players\n",
    "    model.addConstr(sum(X[i]*lb[i] for i in range(n))==2) #The team needs 2 Left Back player\n",
    "    model.addConstr(sum(X[i]*rb[i] for i in range(n))==2) #The team needs 2 Right Back player\n",
    "\n",
    "    #Positions Midfielder\n",
    "    model.addConstr(sum(X[i]*cm[i] for i in range(n))==5) #The team needs 5 Center Midfielder player\n",
    "    model.addConstr(sum(X[i]*lm[i] for i in range(n))==2) #The team needs 2 Left Midfielder player\n",
    "    model.addConstr(sum(X[i]*rm[i] for i in range(n))==2) #The team needs 2 Right Midfielder player\n",
    "\n",
    "    #Positions Wings\n",
    "    model.addConstr(sum(X[i]*lw[i] for i in range(n))==1) #The team needs 1 Left Wing player\n",
    "    model.addConstr(sum(X[i]*rw[i] for i in range(n))==1) #The team needs 1 Right Wing player\n",
    "\n",
    "    #Positions Goalkeeper and Forward\n",
    "    model.addConstr(sum(X[i]*gk[i] for i in range(n))==2) #The team needs 2 Goalkeeper player\n",
    "    model.addConstr(sum(X[i]*cf[i] for i in range(n))==2) #The team needs 2 Center Forward player\n",
    "elif response == \"b\":\n",
    "    #Positions Defense\n",
    "    model.addConstr(sum(X[i]*cb[i] for i in range(n))==4) #The team needs 4 Center Back players\n",
    "    model.addConstr(sum(X[i]*lb[i] for i in range(n))==2) #The team needs 2 Left Back player\n",
    "    model.addConstr(sum(X[i]*rb[i] for i in range(n))==2) #The team needs 2 Right Back player\n",
    "\n",
    "    #Positions Midfielder\n",
    "    model.addConstr(sum(X[i]*cm[i] for i in range(n))==3) #The team needs 3 Center Midfielder player\n",
    "    model.addConstr(sum(X[i]*lm[i] for i in range(n))==2) #The team needs 2 Left Midfielder player\n",
    "    model.addConstr(sum(X[i]*rm[i] for i in range(n))==2) #The team needs 2 Right Midfielder player\n",
    "\n",
    "    #Positions Wings\n",
    "    model.addConstr(sum(X[i]*lw[i] for i in range(n))==2) #The team needs 2 Left Wing player\n",
    "    model.addConstr(sum(X[i]*rw[i] for i in range(n))==2) #The team needs 2 Right Wing player\n",
    "\n",
    "    #Positions Goalkeeper and Forward\n",
    "    model.addConstr(sum(X[i]*gk[i] for i in range(n))==2) #The team needs 2 Goalkeeper player\n",
    "    model.addConstr(sum(X[i]*cf[i] for i in range(n))==2) #The team needs 2 Center Forward player\n",
    "else:\n",
    "        #Positions Defense\n",
    "    model.addConstr(sum(X[i]*cb[i] for i in range(n))==2) #The team needs 2 Center Back players\n",
    "    model.addConstr(sum(X[i]*lb[i] for i in range(n))==2) #The team needs 2 Left Back player\n",
    "    model.addConstr(sum(X[i]*rb[i] for i in range(n))==2) #The team needs 2 Right Back player\n",
    "\n",
    "    #Positions Midfielder\n",
    "    model.addConstr(sum(X[i]*cm[i] for i in range(n))==3) #The team needs 2 Center Midfielder player\n",
    "    model.addConstr(sum(X[i]*lm[i] for i in range(n))==2) #The team needs 2 Left Midfielder player\n",
    "    model.addConstr(sum(X[i]*rm[i] for i in range(n))==2) #The team needs 2 Right Midfielder player\n",
    "\n",
    "    #Positions Wings\n",
    "    model.addConstr(sum(X[i]*lw[i] for i in range(n))==2) #The team needs 2 Left Wing player\n",
    "    model.addConstr(sum(X[i]*rw[i] for i in range(n))==2) #The team needs 2 Right Wing player\n",
    "\n",
    "    #Positions Goalkeeper and Forward\n",
    "    model.addConstr(sum(X[i]*gk[i] for i in range(n))==2) #The team needs 2 Goalkeeper player\n",
    "    model.addConstr(sum(X[i]*cf[i] for i in range(n))==4) #The team needs 4 Center Forward player\n"
   ]
  },
  {
   "attachments": {},
   "cell_type": "markdown",
   "id": "fca0a82d",
   "metadata": {},
   "source": [
    "For the dynamics of the team, it is also important to consider experienced players so they can lead the most unexperienced ones in important matches. Therefore, a constraint to have at least two players but not more than four players older than 29* years old was included.\n",
    "\n",
    "*29 years is the 75 percentile in the attribute age."
   ]
  },
  {
   "cell_type": "code",
   "execution_count": 22,
   "id": "f0791179",
   "metadata": {},
   "outputs": [
    {
     "data": {
      "text/plain": [
       "<gurobi.Constr *Awaiting Model Update*>"
      ]
     },
     "execution_count": 22,
     "metadata": {},
     "output_type": "execute_result"
    }
   ],
   "source": [
    "#Constraint to have between 2 and 4 players greater than 29 years old (75% percentile)\n",
    "model.addConstr(sum(X[i]*aux_age[i] for i in range(n))>=2)\n",
    "model.addConstr(sum(X[i]*aux_age[i] for i in range(n))<=4)"
   ]
  },
  {
   "attachments": {},
   "cell_type": "markdown",
   "id": "9970eecb",
   "metadata": {},
   "source": [
    "We require the model to select at least 4 players that meet the criteria of potential growth, to have players that maybe don't have the best score currently but they have a bright future in the next years and a great value to bring to the team at a relatively low price. We require that one of this four players is a Goal Keeper. "
   ]
  },
  {
   "cell_type": "code",
   "execution_count": 23,
   "id": "c95aa935",
   "metadata": {},
   "outputs": [
    {
     "data": {
      "text/plain": [
       "<gurobi.Constr *Awaiting Model Update*>"
      ]
     },
     "execution_count": 23,
     "metadata": {},
     "output_type": "execute_result"
    }
   ],
   "source": [
    "#Constraint of potential to have at least four players with potential to grow\n",
    "model.addConstr(sum(X[i]*aux_potential[i] for i in range(n))>=4)"
   ]
  },
  {
   "cell_type": "code",
   "execution_count": 24,
   "id": "ec12a635",
   "metadata": {},
   "outputs": [
    {
     "data": {
      "text/plain": [
       "<gurobi.Constr *Awaiting Model Update*>"
      ]
     },
     "execution_count": 24,
     "metadata": {},
     "output_type": "execute_result"
    }
   ],
   "source": [
    "#Constraint to have a goalkeeper with potential to grow\n",
    "model.addConstr(sum(X[i]*aux_potential[i]*gk[i] for i in range(n))>=1)"
   ]
  },
  {
   "attachments": {},
   "cell_type": "markdown",
   "id": "06360908",
   "metadata": {},
   "source": [
    "### Solving the problem"
   ]
  },
  {
   "cell_type": "code",
   "execution_count": 25,
   "id": "783935e0",
   "metadata": {},
   "outputs": [
    {
     "name": "stdout",
     "output_type": "stream",
     "text": [
      "Gurobi Optimizer version 9.5.2 build v9.5.2rc0 (win64)\n",
      "Thread count: 6 physical cores, 12 logical processors, using up to 12 threads\n",
      "Optimize a model with 108396 rows, 72252 columns and 259712 nonzeros\n",
      "Model fingerprint: 0x6c6483e6\n",
      "Variable types: 0 continuous, 72252 integer (72252 binary)\n",
      "Coefficient statistics:\n",
      "  Matrix range     [1e+00, 2e+08]\n",
      "  Objective range  [2e+00, 4e+00]\n",
      "  Bounds range     [1e+00, 1e+00]\n",
      "  RHS range        [1e+00, 1e+09]\n",
      "Warning: Model contains large matrix coefficients\n",
      "Warning: Model contains large rhs\n",
      "         Consider reformulating model or setting NumericFocus parameter\n",
      "         to avoid numerical issues.\n",
      "Found heuristic solution: objective 65.9130435\n",
      "Presolve removed 108377 rows and 59052 columns\n",
      "Presolve time: 0.25s\n",
      "Presolved: 19 rows, 13200 columns, 45149 nonzeros\n",
      "Found heuristic solution: objective 76.2608696\n",
      "Variable types: 0 continuous, 13200 integer (11377 binary)\n",
      "\n",
      "Root relaxation: objective 8.514004e+01, 127 iterations, 0.01 seconds (0.02 work units)\n",
      "\n",
      "    Nodes    |    Current Node    |     Objective Bounds      |     Work\n",
      " Expl Unexpl |  Obj  Depth IntInf | Incumbent    BestBd   Gap | It/Node Time\n",
      "\n",
      "     0     0   85.14004    0    2   76.26087   85.14004  11.6%     -    0s\n",
      "H    0     0                      85.0869565   85.14004  0.06%     -    0s\n",
      "\n",
      "Cutting planes:\n",
      "  RLT: 2\n",
      "\n",
      "Explored 1 nodes (127 simplex iterations) in 0.55 seconds (0.39 work units)\n",
      "Thread count was 12 (of 12 available processors)\n",
      "\n",
      "Solution count 3: 85.087 76.2609 65.913 \n",
      "\n",
      "Optimal solution found (tolerance 1.00e-04)\n",
      "Best objective 8.508695652174e+01, best bound 8.508695652174e+01, gap 0.0000%\n"
     ]
    }
   ],
   "source": [
    "#Solving the problem\n",
    "model.optimize()"
   ]
  },
  {
   "cell_type": "code",
   "execution_count": 26,
   "id": "c86d0edc",
   "metadata": {},
   "outputs": [
    {
     "name": "stdout",
     "output_type": "stream",
     "text": [
      "\n",
      "The max average score at the optimal selection is 85.1\n",
      "\n",
      "The selected players that maximize the objective function are:\n",
      "\n",
      "L. Messi with score: 93 and position RW (Right Wing)\n",
      "Cristiano Ronaldo with score: 91 and position CF (Center Forward)\n",
      "M. Neuer with score: 90 and position GK (Goal Keeper)\n",
      "Sergio Ramos with score: 88 and position CB (Center Back)\n",
      "M. Verratti with score: 87 and position CM (Center Midfielder)\n",
      "A. Hakimi with score: 85 and position RB (Right Back)\n",
      "Luis Alberto with score: 84 and position CM (Center Midfielder)\n",
      "L. Digne with score: 84 and position LB (Left Back)\n",
      "M. Sabitzer with score: 84 and position CM (Center Midfielder)\n",
      "M. Ginter with score: 84 and position CB (Center Back)\n",
      "Y. Carrasco with score: 84 and position LM (Left Midfielder)\n",
      "F. Kostic with score: 84 and position LM (Left Midfielder)\n",
      "R. Guerreiro with score: 84 and position LB (Left Back)\n",
      "Ricardo Pereira with score: 84 and position RB (Right Back)\n",
      "M. Maignan with score: 84 and position GK (Goal Keeper)\n",
      "M. Brozovic with score: 84 and position CB (Center Back)\n",
      "J. GimÃ©nez with score: 84 and position CB (Center Back)\n",
      "N. Fekir with score: 84 and position CM (Center Midfielder)\n",
      "L. SanÃ© with score: 84 and position RM (Right Midfielder)\n",
      "Muniain with score: 83 and position CM (Center Midfielder)\n",
      "K. Volland with score: 83 and position CF (Center Forward)\n",
      "L. Ocampos with score: 83 and position LW (Left Wing)\n",
      "Rafa with score: 82 and position RM (Right Midfielder)\n"
     ]
    }
   ],
   "source": [
    "print(\"\\nThe max average score at the optimal selection is\",\"{:,}\".format(round(model.objVal,1)))\n",
    "\n",
    "print(\"\\nThe selected players that maximize the objective function are:\"+\"\\n\")\n",
    "\n",
    "players = []\n",
    "\n",
    "for v in model.getVars():\n",
    "    if v.x == 1:\n",
    "        players.append(v.index)\n",
    "players = players[0:23]\n",
    "\n",
    "for player_id in players:\n",
    "    print(db_array[player_id,1],\"with score:\",db_array[player_id,2], \"and position\",db_array[player_id,25])"
   ]
  },
  {
   "attachments": {},
   "cell_type": "markdown",
   "id": "154abd79",
   "metadata": {},
   "source": [
    "### Splitting the 23 players between the 11 starting players and 12 sustitute players"
   ]
  },
  {
   "cell_type": "code",
   "execution_count": 27,
   "id": "144d80f1",
   "metadata": {},
   "outputs": [
    {
     "name": "stdout",
     "output_type": "stream",
     "text": [
      "The starting team is: \n",
      "L. Messi with score: 93 and position RW (Right Wing)\n",
      "Cristiano Ronaldo with score: 91 and position CF (Center Forward)\n",
      "M. Neuer with score: 90 and position GK (Goal Keeper)\n",
      "Sergio Ramos with score: 88 and position CB (Center Back)\n",
      "M. Verratti with score: 87 and position CM (Center Midfielder)\n",
      "A. Hakimi with score: 85 and position RB (Right Back)\n",
      "Luis Alberto with score: 84 and position CM (Center Midfielder)\n",
      "L. Digne with score: 84 and position LB (Left Back)\n",
      "M. Ginter with score: 84 and position CB (Center Back)\n",
      "Y. Carrasco with score: 84 and position LM (Left Midfielder)\n",
      "L. SanÃ© with score: 84 and position RM (Right Midfielder)\n",
      "\n",
      "The substitutes are: \n",
      "M. Sabitzer with score: 84 and position CM (Center Midfielder)\n",
      "F. Kostic with score: 84 and position LM (Left Midfielder)\n",
      "R. Guerreiro with score: 84 and position LB (Left Back)\n",
      "Ricardo Pereira with score: 84 and position RB (Right Back)\n",
      "M. Maignan with score: 84 and position GK (Goal Keeper)\n",
      "M. Brozovic with score: 84 and position CB (Center Back)\n",
      "J. GimÃ©nez with score: 84 and position CB (Center Back)\n",
      "N. Fekir with score: 84 and position CM (Center Midfielder)\n",
      "Muniain with score: 83 and position CM (Center Midfielder)\n",
      "K. Volland with score: 83 and position CF (Center Forward)\n",
      "L. Ocampos with score: 83 and position LW (Left Wing)\n",
      "Rafa with score: 82 and position RM (Right Midfielder)\n"
     ]
    },
    {
     "name": "stderr",
     "output_type": "stream",
     "text": [
      "C:\\Users\\ximen\\AppData\\Local\\Temp\\ipykernel_15664\\2875568670.py:25: SettingWithCopyWarning: \n",
      "A value is trying to be set on a copy of a slice from a DataFrame.\n",
      "Try using .loc[row_indexer,col_indexer] = value instead\n",
      "\n",
      "See the caveats in the documentation: https://pandas.pydata.org/pandas-docs/stable/user_guide/indexing.html#returning-a-view-versus-a-copy\n",
      "  selected_team['Starting_11'] = selected_team['sofifa_id'].isin(starting_11).astype(int)\n"
     ]
    }
   ],
   "source": [
    "selected_team = db.iloc[players,:]\n",
    "positions=[ 'GK (Goal Keeper)', 'LB (Left Back)', 'CB (Center Back)',\n",
    " 'RB (Right Back)' , 'LM (Left Midfielder)',  'CM (Center Midfielder)' ,'RM (Right Midfielder)',\n",
    " 'LW (Left Wing)' ,'RW (Right Wing)','CF (Center Forward)']\n",
    "#print(selected_team)\n",
    "\n",
    "form_442 = [1,1,2,1,1,2,1,0,1,1]\n",
    "form_433 = [1,1,2,1,1,1,1,1,1,1]\n",
    "form_352 = [1,1,1,1,1,1,1,1,1,2]\n",
    "\n",
    "starting_11 = []\n",
    "if response == \"a\":\n",
    "    for i in range(len(positions)):\n",
    "        x = selected_team[selected_team[\"Standard_Position\"]==positions[i]].nlargest(form_442[i], 'score')\n",
    "        starting_11.extend(list(x.iloc[:,0]))\n",
    "elif response == \"b\":\n",
    "    for i in range(len(positions)):\n",
    "        x = selected_team[selected_team[\"Standard_Position\"]==positions[i]].nlargest(form_433[i], 'score')\n",
    "        starting_11.extend(list(x.iloc[:,0]))\n",
    "else:\n",
    "    for i in range(len(positions)):\n",
    "        x = selected_team[selected_team[\"Standard_Position\"]==positions[i]].nlargest(form_352[i], 'score')\n",
    "        starting_11.extend(list(x.iloc[:,0]))\n",
    "        \n",
    "selected_team['Starting_11'] = selected_team['sofifa_id'].isin(starting_11).astype(int)\n",
    "\n",
    "print(\"The starting team is: \")\n",
    "for i in range(len(selected_team)):\n",
    "    if selected_team.iloc[i,26] == 1:\n",
    "        print(selected_team.iloc[i,1],\"with score:\",selected_team.iloc[i,2], \"and position\", selected_team.iloc[i,25])\n",
    "\n",
    "print(\"\\nThe substitutes are: \")\n",
    "for i in range(len(selected_team)):\n",
    "    if selected_team.iloc[i,26] ==0:\n",
    "        print(selected_team.iloc[i,1],\"with score:\",selected_team.iloc[i,2], \"and position\", selected_team.iloc[i,25])\n",
    "   "
   ]
  },
  {
   "cell_type": "code",
   "execution_count": 28,
   "id": "c5fc9f6d",
   "metadata": {},
   "outputs": [],
   "source": [
    "summary = selected_team.iloc[:,[1,2,3,4,5,6,9,10,11,-5,-4,-3,-2]]\n",
    "init_11 = selected_team.iloc[list(selected_team.Starting_11==1),[1,2,3,4,5,6,9,11,-5,-4,-3,-2]]\n",
    "sust_12 = selected_team.iloc[list(selected_team.Starting_11==0),[1,2,3,4,5,6,9,11,-5,-4,-3,-2]]"
   ]
  },
  {
   "cell_type": "code",
   "execution_count": 29,
   "id": "f1893733",
   "metadata": {},
   "outputs": [
    {
     "data": {
      "text/html": [
       "<div>\n",
       "<style scoped>\n",
       "    .dataframe tbody tr th:only-of-type {\n",
       "        vertical-align: middle;\n",
       "    }\n",
       "\n",
       "    .dataframe tbody tr th {\n",
       "        vertical-align: top;\n",
       "    }\n",
       "\n",
       "    .dataframe thead th {\n",
       "        text-align: right;\n",
       "    }\n",
       "</style>\n",
       "<table border=\"1\" class=\"dataframe\">\n",
       "  <thead>\n",
       "    <tr style=\"text-align: right;\">\n",
       "      <th></th>\n",
       "      <th>short_name</th>\n",
       "      <th>score</th>\n",
       "      <th>value_eur</th>\n",
       "      <th>annual_wage_eur</th>\n",
       "      <th>potential</th>\n",
       "      <th>age</th>\n",
       "      <th>nationality_name</th>\n",
       "      <th>height_cm</th>\n",
       "      <th>Potential_Growth</th>\n",
       "      <th>Binary_Potential</th>\n",
       "      <th>Binary_Age</th>\n",
       "      <th>Standard_Position</th>\n",
       "    </tr>\n",
       "  </thead>\n",
       "  <tbody>\n",
       "    <tr>\n",
       "      <th>0</th>\n",
       "      <td>L. Messi</td>\n",
       "      <td>93</td>\n",
       "      <td>78000000.0</td>\n",
       "      <td>16640000.0</td>\n",
       "      <td>93</td>\n",
       "      <td>34</td>\n",
       "      <td>Argentina</td>\n",
       "      <td>170</td>\n",
       "      <td>0</td>\n",
       "      <td>0</td>\n",
       "      <td>1</td>\n",
       "      <td>RW (Right Wing)</td>\n",
       "    </tr>\n",
       "    <tr>\n",
       "      <th>2</th>\n",
       "      <td>Cristiano Ronaldo</td>\n",
       "      <td>91</td>\n",
       "      <td>45000000.0</td>\n",
       "      <td>14040000.0</td>\n",
       "      <td>91</td>\n",
       "      <td>36</td>\n",
       "      <td>Portugal</td>\n",
       "      <td>187</td>\n",
       "      <td>0</td>\n",
       "      <td>0</td>\n",
       "      <td>1</td>\n",
       "      <td>CF (Center Forward)</td>\n",
       "    </tr>\n",
       "    <tr>\n",
       "      <th>7</th>\n",
       "      <td>M. Neuer</td>\n",
       "      <td>90</td>\n",
       "      <td>13500000.0</td>\n",
       "      <td>4472000.0</td>\n",
       "      <td>90</td>\n",
       "      <td>35</td>\n",
       "      <td>Germany</td>\n",
       "      <td>193</td>\n",
       "      <td>0</td>\n",
       "      <td>0</td>\n",
       "      <td>1</td>\n",
       "      <td>GK (Goal Keeper)</td>\n",
       "    </tr>\n",
       "    <tr>\n",
       "      <th>22</th>\n",
       "      <td>Sergio Ramos</td>\n",
       "      <td>88</td>\n",
       "      <td>24000000.0</td>\n",
       "      <td>5980000.0</td>\n",
       "      <td>88</td>\n",
       "      <td>35</td>\n",
       "      <td>Spain</td>\n",
       "      <td>184</td>\n",
       "      <td>0</td>\n",
       "      <td>0</td>\n",
       "      <td>1</td>\n",
       "      <td>CB (Center Back)</td>\n",
       "    </tr>\n",
       "    <tr>\n",
       "      <th>38</th>\n",
       "      <td>M. Verratti</td>\n",
       "      <td>87</td>\n",
       "      <td>79500000.0</td>\n",
       "      <td>8060000.0</td>\n",
       "      <td>87</td>\n",
       "      <td>28</td>\n",
       "      <td>Italy</td>\n",
       "      <td>165</td>\n",
       "      <td>0</td>\n",
       "      <td>0</td>\n",
       "      <td>0</td>\n",
       "      <td>CM (Center Midfielder)</td>\n",
       "    </tr>\n",
       "    <tr>\n",
       "      <th>95</th>\n",
       "      <td>A. Hakimi</td>\n",
       "      <td>85</td>\n",
       "      <td>69500000.0</td>\n",
       "      <td>5200000.0</td>\n",
       "      <td>88</td>\n",
       "      <td>22</td>\n",
       "      <td>Morocco</td>\n",
       "      <td>181</td>\n",
       "      <td>3</td>\n",
       "      <td>1</td>\n",
       "      <td>0</td>\n",
       "      <td>RB (Right Back)</td>\n",
       "    </tr>\n",
       "    <tr>\n",
       "      <th>108</th>\n",
       "      <td>Luis Alberto</td>\n",
       "      <td>84</td>\n",
       "      <td>42500000.0</td>\n",
       "      <td>4940000.0</td>\n",
       "      <td>84</td>\n",
       "      <td>28</td>\n",
       "      <td>Spain</td>\n",
       "      <td>183</td>\n",
       "      <td>0</td>\n",
       "      <td>0</td>\n",
       "      <td>0</td>\n",
       "      <td>CM (Center Midfielder)</td>\n",
       "    </tr>\n",
       "    <tr>\n",
       "      <th>111</th>\n",
       "      <td>L. Digne</td>\n",
       "      <td>84</td>\n",
       "      <td>40500000.0</td>\n",
       "      <td>5720000.0</td>\n",
       "      <td>84</td>\n",
       "      <td>27</td>\n",
       "      <td>France</td>\n",
       "      <td>178</td>\n",
       "      <td>0</td>\n",
       "      <td>0</td>\n",
       "      <td>0</td>\n",
       "      <td>LB (Left Back)</td>\n",
       "    </tr>\n",
       "    <tr>\n",
       "      <th>119</th>\n",
       "      <td>M. Ginter</td>\n",
       "      <td>84</td>\n",
       "      <td>42500000.0</td>\n",
       "      <td>2340000.0</td>\n",
       "      <td>85</td>\n",
       "      <td>27</td>\n",
       "      <td>Germany</td>\n",
       "      <td>191</td>\n",
       "      <td>1</td>\n",
       "      <td>0</td>\n",
       "      <td>0</td>\n",
       "      <td>CB (Center Back)</td>\n",
       "    </tr>\n",
       "    <tr>\n",
       "      <th>121</th>\n",
       "      <td>Y. Carrasco</td>\n",
       "      <td>84</td>\n",
       "      <td>45000000.0</td>\n",
       "      <td>4212000.0</td>\n",
       "      <td>84</td>\n",
       "      <td>27</td>\n",
       "      <td>Belgium</td>\n",
       "      <td>185</td>\n",
       "      <td>0</td>\n",
       "      <td>0</td>\n",
       "      <td>0</td>\n",
       "      <td>LM (Left Midfielder)</td>\n",
       "    </tr>\n",
       "    <tr>\n",
       "      <th>132</th>\n",
       "      <td>L. SanÃ©</td>\n",
       "      <td>84</td>\n",
       "      <td>56000000.0</td>\n",
       "      <td>5460000.0</td>\n",
       "      <td>87</td>\n",
       "      <td>25</td>\n",
       "      <td>Germany</td>\n",
       "      <td>183</td>\n",
       "      <td>3</td>\n",
       "      <td>1</td>\n",
       "      <td>0</td>\n",
       "      <td>RM (Right Midfielder)</td>\n",
       "    </tr>\n",
       "  </tbody>\n",
       "</table>\n",
       "</div>"
      ],
      "text/plain": [
       "            short_name  score   value_eur  annual_wage_eur  potential  age  \\\n",
       "0             L. Messi     93  78000000.0       16640000.0         93   34   \n",
       "2    Cristiano Ronaldo     91  45000000.0       14040000.0         91   36   \n",
       "7             M. Neuer     90  13500000.0        4472000.0         90   35   \n",
       "22        Sergio Ramos     88  24000000.0        5980000.0         88   35   \n",
       "38         M. Verratti     87  79500000.0        8060000.0         87   28   \n",
       "95           A. Hakimi     85  69500000.0        5200000.0         88   22   \n",
       "108       Luis Alberto     84  42500000.0        4940000.0         84   28   \n",
       "111           L. Digne     84  40500000.0        5720000.0         84   27   \n",
       "119          M. Ginter     84  42500000.0        2340000.0         85   27   \n",
       "121        Y. Carrasco     84  45000000.0        4212000.0         84   27   \n",
       "132           L. SanÃ©     84  56000000.0        5460000.0         87   25   \n",
       "\n",
       "    nationality_name  height_cm  Potential_Growth  Binary_Potential  \\\n",
       "0          Argentina        170                 0                 0   \n",
       "2           Portugal        187                 0                 0   \n",
       "7            Germany        193                 0                 0   \n",
       "22             Spain        184                 0                 0   \n",
       "38             Italy        165                 0                 0   \n",
       "95           Morocco        181                 3                 1   \n",
       "108            Spain        183                 0                 0   \n",
       "111           France        178                 0                 0   \n",
       "119          Germany        191                 1                 0   \n",
       "121          Belgium        185                 0                 0   \n",
       "132          Germany        183                 3                 1   \n",
       "\n",
       "     Binary_Age       Standard_Position  \n",
       "0             1         RW (Right Wing)  \n",
       "2             1     CF (Center Forward)  \n",
       "7             1        GK (Goal Keeper)  \n",
       "22            1        CB (Center Back)  \n",
       "38            0  CM (Center Midfielder)  \n",
       "95            0         RB (Right Back)  \n",
       "108           0  CM (Center Midfielder)  \n",
       "111           0          LB (Left Back)  \n",
       "119           0        CB (Center Back)  \n",
       "121           0    LM (Left Midfielder)  \n",
       "132           0   RM (Right Midfielder)  "
      ]
     },
     "metadata": {},
     "output_type": "display_data"
    }
   ],
   "source": [
    "display(init_11)"
   ]
  },
  {
   "cell_type": "code",
   "execution_count": 30,
   "id": "a6144c51",
   "metadata": {},
   "outputs": [
    {
     "data": {
      "text/html": [
       "<div>\n",
       "<style scoped>\n",
       "    .dataframe tbody tr th:only-of-type {\n",
       "        vertical-align: middle;\n",
       "    }\n",
       "\n",
       "    .dataframe tbody tr th {\n",
       "        vertical-align: top;\n",
       "    }\n",
       "\n",
       "    .dataframe thead th {\n",
       "        text-align: right;\n",
       "    }\n",
       "</style>\n",
       "<table border=\"1\" class=\"dataframe\">\n",
       "  <thead>\n",
       "    <tr style=\"text-align: right;\">\n",
       "      <th></th>\n",
       "      <th>short_name</th>\n",
       "      <th>score</th>\n",
       "      <th>value_eur</th>\n",
       "      <th>annual_wage_eur</th>\n",
       "      <th>potential</th>\n",
       "      <th>age</th>\n",
       "      <th>nationality_name</th>\n",
       "      <th>height_cm</th>\n",
       "      <th>Potential_Growth</th>\n",
       "      <th>Binary_Potential</th>\n",
       "      <th>Binary_Age</th>\n",
       "      <th>Standard_Position</th>\n",
       "    </tr>\n",
       "  </thead>\n",
       "  <tbody>\n",
       "    <tr>\n",
       "      <th>116</th>\n",
       "      <td>M. Sabitzer</td>\n",
       "      <td>84</td>\n",
       "      <td>48000000.0</td>\n",
       "      <td>5720000.0</td>\n",
       "      <td>85</td>\n",
       "      <td>27</td>\n",
       "      <td>Austria</td>\n",
       "      <td>178</td>\n",
       "      <td>1</td>\n",
       "      <td>0</td>\n",
       "      <td>0</td>\n",
       "      <td>CM (Center Midfielder)</td>\n",
       "    </tr>\n",
       "    <tr>\n",
       "      <th>122</th>\n",
       "      <td>F. Kostic</td>\n",
       "      <td>84</td>\n",
       "      <td>42500000.0</td>\n",
       "      <td>2704000.0</td>\n",
       "      <td>84</td>\n",
       "      <td>28</td>\n",
       "      <td>Serbia</td>\n",
       "      <td>184</td>\n",
       "      <td>0</td>\n",
       "      <td>0</td>\n",
       "      <td>0</td>\n",
       "      <td>LM (Left Midfielder)</td>\n",
       "    </tr>\n",
       "    <tr>\n",
       "      <th>124</th>\n",
       "      <td>R. Guerreiro</td>\n",
       "      <td>84</td>\n",
       "      <td>40500000.0</td>\n",
       "      <td>4108000.0</td>\n",
       "      <td>84</td>\n",
       "      <td>27</td>\n",
       "      <td>Portugal</td>\n",
       "      <td>170</td>\n",
       "      <td>0</td>\n",
       "      <td>0</td>\n",
       "      <td>0</td>\n",
       "      <td>LB (Left Back)</td>\n",
       "    </tr>\n",
       "    <tr>\n",
       "      <th>125</th>\n",
       "      <td>Ricardo Pereira</td>\n",
       "      <td>84</td>\n",
       "      <td>40500000.0</td>\n",
       "      <td>6760000.0</td>\n",
       "      <td>84</td>\n",
       "      <td>27</td>\n",
       "      <td>Portugal</td>\n",
       "      <td>175</td>\n",
       "      <td>0</td>\n",
       "      <td>0</td>\n",
       "      <td>0</td>\n",
       "      <td>RB (Right Back)</td>\n",
       "    </tr>\n",
       "    <tr>\n",
       "      <th>127</th>\n",
       "      <td>M. Maignan</td>\n",
       "      <td>84</td>\n",
       "      <td>49500000.0</td>\n",
       "      <td>2340000.0</td>\n",
       "      <td>89</td>\n",
       "      <td>25</td>\n",
       "      <td>France</td>\n",
       "      <td>191</td>\n",
       "      <td>5</td>\n",
       "      <td>1</td>\n",
       "      <td>0</td>\n",
       "      <td>GK (Goal Keeper)</td>\n",
       "    </tr>\n",
       "    <tr>\n",
       "      <th>128</th>\n",
       "      <td>M. Brozovic</td>\n",
       "      <td>84</td>\n",
       "      <td>37000000.0</td>\n",
       "      <td>6760000.0</td>\n",
       "      <td>84</td>\n",
       "      <td>28</td>\n",
       "      <td>Croatia</td>\n",
       "      <td>181</td>\n",
       "      <td>0</td>\n",
       "      <td>0</td>\n",
       "      <td>0</td>\n",
       "      <td>CB (Center Back)</td>\n",
       "    </tr>\n",
       "    <tr>\n",
       "      <th>130</th>\n",
       "      <td>J. GimÃ©nez</td>\n",
       "      <td>84</td>\n",
       "      <td>52000000.0</td>\n",
       "      <td>3848000.0</td>\n",
       "      <td>88</td>\n",
       "      <td>26</td>\n",
       "      <td>Uruguay</td>\n",
       "      <td>185</td>\n",
       "      <td>4</td>\n",
       "      <td>1</td>\n",
       "      <td>0</td>\n",
       "      <td>CB (Center Back)</td>\n",
       "    </tr>\n",
       "    <tr>\n",
       "      <th>131</th>\n",
       "      <td>N. Fekir</td>\n",
       "      <td>84</td>\n",
       "      <td>45000000.0</td>\n",
       "      <td>2184000.0</td>\n",
       "      <td>84</td>\n",
       "      <td>27</td>\n",
       "      <td>France</td>\n",
       "      <td>173</td>\n",
       "      <td>0</td>\n",
       "      <td>0</td>\n",
       "      <td>0</td>\n",
       "      <td>CM (Center Midfielder)</td>\n",
       "    </tr>\n",
       "    <tr>\n",
       "      <th>150</th>\n",
       "      <td>Muniain</td>\n",
       "      <td>83</td>\n",
       "      <td>36500000.0</td>\n",
       "      <td>2288000.0</td>\n",
       "      <td>83</td>\n",
       "      <td>28</td>\n",
       "      <td>Spain</td>\n",
       "      <td>170</td>\n",
       "      <td>0</td>\n",
       "      <td>0</td>\n",
       "      <td>0</td>\n",
       "      <td>CM (Center Midfielder)</td>\n",
       "    </tr>\n",
       "    <tr>\n",
       "      <th>162</th>\n",
       "      <td>K. Volland</td>\n",
       "      <td>83</td>\n",
       "      <td>37000000.0</td>\n",
       "      <td>4316000.0</td>\n",
       "      <td>83</td>\n",
       "      <td>28</td>\n",
       "      <td>Germany</td>\n",
       "      <td>179</td>\n",
       "      <td>0</td>\n",
       "      <td>0</td>\n",
       "      <td>0</td>\n",
       "      <td>CF (Center Forward)</td>\n",
       "    </tr>\n",
       "    <tr>\n",
       "      <th>171</th>\n",
       "      <td>L. Ocampos</td>\n",
       "      <td>83</td>\n",
       "      <td>39500000.0</td>\n",
       "      <td>2392000.0</td>\n",
       "      <td>83</td>\n",
       "      <td>26</td>\n",
       "      <td>Argentina</td>\n",
       "      <td>188</td>\n",
       "      <td>0</td>\n",
       "      <td>0</td>\n",
       "      <td>0</td>\n",
       "      <td>LW (Left Wing)</td>\n",
       "    </tr>\n",
       "    <tr>\n",
       "      <th>248</th>\n",
       "      <td>Rafa</td>\n",
       "      <td>82</td>\n",
       "      <td>30500000.0</td>\n",
       "      <td>1144000.0</td>\n",
       "      <td>82</td>\n",
       "      <td>28</td>\n",
       "      <td>Portugal</td>\n",
       "      <td>170</td>\n",
       "      <td>0</td>\n",
       "      <td>0</td>\n",
       "      <td>0</td>\n",
       "      <td>RM (Right Midfielder)</td>\n",
       "    </tr>\n",
       "  </tbody>\n",
       "</table>\n",
       "</div>"
      ],
      "text/plain": [
       "          short_name  score   value_eur  annual_wage_eur  potential  age  \\\n",
       "116      M. Sabitzer     84  48000000.0        5720000.0         85   27   \n",
       "122        F. Kostic     84  42500000.0        2704000.0         84   28   \n",
       "124     R. Guerreiro     84  40500000.0        4108000.0         84   27   \n",
       "125  Ricardo Pereira     84  40500000.0        6760000.0         84   27   \n",
       "127       M. Maignan     84  49500000.0        2340000.0         89   25   \n",
       "128      M. Brozovic     84  37000000.0        6760000.0         84   28   \n",
       "130      J. GimÃ©nez     84  52000000.0        3848000.0         88   26   \n",
       "131         N. Fekir     84  45000000.0        2184000.0         84   27   \n",
       "150          Muniain     83  36500000.0        2288000.0         83   28   \n",
       "162       K. Volland     83  37000000.0        4316000.0         83   28   \n",
       "171       L. Ocampos     83  39500000.0        2392000.0         83   26   \n",
       "248             Rafa     82  30500000.0        1144000.0         82   28   \n",
       "\n",
       "    nationality_name  height_cm  Potential_Growth  Binary_Potential  \\\n",
       "116          Austria        178                 1                 0   \n",
       "122           Serbia        184                 0                 0   \n",
       "124         Portugal        170                 0                 0   \n",
       "125         Portugal        175                 0                 0   \n",
       "127           France        191                 5                 1   \n",
       "128          Croatia        181                 0                 0   \n",
       "130          Uruguay        185                 4                 1   \n",
       "131           France        173                 0                 0   \n",
       "150            Spain        170                 0                 0   \n",
       "162          Germany        179                 0                 0   \n",
       "171        Argentina        188                 0                 0   \n",
       "248         Portugal        170                 0                 0   \n",
       "\n",
       "     Binary_Age       Standard_Position  \n",
       "116           0  CM (Center Midfielder)  \n",
       "122           0    LM (Left Midfielder)  \n",
       "124           0          LB (Left Back)  \n",
       "125           0         RB (Right Back)  \n",
       "127           0        GK (Goal Keeper)  \n",
       "128           0        CB (Center Back)  \n",
       "130           0        CB (Center Back)  \n",
       "131           0  CM (Center Midfielder)  \n",
       "150           0  CM (Center Midfielder)  \n",
       "162           0     CF (Center Forward)  \n",
       "171           0          LW (Left Wing)  \n",
       "248           0   RM (Right Midfielder)  "
      ]
     },
     "metadata": {},
     "output_type": "display_data"
    }
   ],
   "source": [
    "display(sust_12)"
   ]
  },
  {
   "cell_type": "code",
   "execution_count": 31,
   "id": "b4745716",
   "metadata": {},
   "outputs": [
    {
     "name": "stdout",
     "output_type": "stream",
     "text": [
      "The non European Union players are: ['L. Messi', 'A. Hakimi', 'F. Kostic', 'J. GimÃ©nez', 'L. Ocampos']\n",
      "The total number of players that are not from a European Union country are: 5 vs the limit of 5\n"
     ]
    }
   ],
   "source": [
    "# To see that the model meet the criteria the limit of non European players:\n",
    "non_european = []\n",
    "for i in range (len(summary)):\n",
    "    if summary.iloc[i,7]==0:\n",
    "        non_european.append(summary.iloc[i,0])\n",
    "print(\"The non European Union players are:\",non_european)\n",
    "print(\"The total number of players that are not from a European Union country are:\",len(non_european),\"vs the limit of 5\")"
   ]
  },
  {
   "cell_type": "code",
   "execution_count": 32,
   "id": "fc816b97",
   "metadata": {},
   "outputs": [
    {
     "name": "stdout",
     "output_type": "stream",
     "text": [
      "The total value plus wage of the team is: 1,156,128,000.0 vs the limit of: 1,171,276,000\n"
     ]
    }
   ],
   "source": [
    "# To see that the model meet the criteria the limit of non budget:\n",
    "if response_1 == \"a\":\n",
    "    x=Low_budget\n",
    "elif response_1 == \"b\":\n",
    "    x=Medium_budget\n",
    "elif response_1 == \"c\":\n",
    "    x=High_budget\n",
    "\n",
    "print(\"The total value plus wage of the team is: \"\"{:,}\".format(summary.iloc[:,2].sum()+summary.iloc[:,3].sum())\n",
    "      ,\"vs the limit of:\",\"{:,}\".format(x))"
   ]
  },
  {
   "cell_type": "code",
   "execution_count": 33,
   "id": "fa9746ac",
   "metadata": {},
   "outputs": [
    {
     "name": "stdout",
     "output_type": "stream",
     "text": [
      "The defense players higher than 186 cm are: ['M. Ginter']\n",
      "The total number of players higher than 186 cm are: 1 vs the constrait of at least 1\n"
     ]
    }
   ],
   "source": [
    "# To see that the model meet the criteria the constraint of have at least one defense higher than 186 cm:\n",
    "tall_def = []\n",
    "for i in range (len(summary)):\n",
    "    if summary.iloc[i,8]>=186 and (summary.iloc[i,-1]==(\"CB (Center Back)\") \n",
    "                               or (summary.iloc[i,-1]==(\"LB (Left Back)\")\n",
    "                               or (summary.iloc[i,-1]==(\"RB (Right Back)\")))):\n",
    "        tall_def.append(summary.iloc[i,0])\n",
    "print(\"The defense players higher than 186 cm are:\",tall_def)\n",
    "print(\"The total number of players higher than 186 cm are:\",len(tall_def),\"vs the constrait of at least 1\")"
   ]
  },
  {
   "cell_type": "code",
   "execution_count": 34,
   "id": "498f9922",
   "metadata": {},
   "outputs": [
    {
     "name": "stdout",
     "output_type": "stream",
     "text": [
      "The players older than 29 years are: ['L. Messi', 'Cristiano Ronaldo', 'M. Neuer', 'Sergio Ramos']\n",
      "The total number of players older than 29 years are: 4 vs the range from 2 to 4\n"
     ]
    }
   ],
   "source": [
    "# To see that the model meet the criteria that at least 2 but no more thatn 4 players are older than 29 years old:\n",
    "exp_players = []\n",
    "for i in range (len(summary)):\n",
    "    if summary.iloc[i,5]>29:\n",
    "        exp_players.append(summary.iloc[i,0])\n",
    "print(\"The players older than 29 years are:\",exp_players)\n",
    "print(\"The total number of players older than 29 years are:\",len(exp_players),\"vs the range from 2 to 4\")"
   ]
  },
  {
   "cell_type": "code",
   "execution_count": 35,
   "id": "7f36f864",
   "metadata": {},
   "outputs": [
    {
     "name": "stdout",
     "output_type": "stream",
     "text": [
      "The players that meet potential growth are: ['A. Hakimi', 'M. Maignan', 'J. GimÃ©nez', 'L. SanÃ©']\n",
      "The total number of players that meet potential growth are: 4 vs the criteria of at least 4\n"
     ]
    }
   ],
   "source": [
    "# To see that the model meet the criteria that at least 4 players meet the potential growth criteria:\n",
    "pot_players = []\n",
    "for i in range (len(summary)):\n",
    "    if summary.iloc[i,10]==1:\n",
    "        pot_players.append(summary.iloc[i,0])\n",
    "print(\"The players that meet potential growth are:\",pot_players)\n",
    "print(\"The total number of players that meet potential growth are:\",len(pot_players),\"vs the criteria of at least 4\")"
   ]
  },
  {
   "cell_type": "code",
   "execution_count": 36,
   "id": "8e47964e",
   "metadata": {},
   "outputs": [
    {
     "name": "stdout",
     "output_type": "stream",
     "text": [
      "The Goal Keeper that meets the potential growth is: ['M. Maignan']\n"
     ]
    }
   ],
   "source": [
    "# To see that the model meet the criteria that at least 1 Goal Keeper meets the potential growth criteria:\n",
    "pot_gk = []\n",
    "for i in range (len(summary)):\n",
    "    if summary.iloc[i,10]==1 and summary.iloc[i,-1]==(\"GK (Goal Keeper)\"):\n",
    "        pot_gk.append(summary.iloc[i,0])\n",
    "print(\"The Goal Keeper that meets the potential growth is:\",pot_gk)"
   ]
  }
 ],
 "metadata": {
  "kernelspec": {
   "display_name": "Python 3 (ipykernel)",
   "language": "python",
   "name": "python3"
  },
  "language_info": {
   "codemirror_mode": {
    "name": "ipython",
    "version": 3
   },
   "file_extension": ".py",
   "mimetype": "text/x-python",
   "name": "python",
   "nbconvert_exporter": "python",
   "pygments_lexer": "ipython3",
   "version": "3.8.8"
  }
 },
 "nbformat": 4,
 "nbformat_minor": 5
}
